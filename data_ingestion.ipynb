{
 "cells": [
  {
   "cell_type": "code",
   "execution_count": 1,
   "metadata": {},
   "outputs": [],
   "source": [
    "import os\n",
    "import time\n",
    "\n",
    "import dask.dataframe as dd\n",
    "import pandas as pd"
   ]
  },
  {
   "cell_type": "code",
   "execution_count": 2,
   "metadata": {},
   "outputs": [
    {
     "data": {
      "text/plain": "5403773854"
     },
     "execution_count": 2,
     "metadata": {},
     "output_type": "execute_result"
    }
   ],
   "source": [
    "#Size of the file\n",
    "os.path.getsize('archive/train.csv')"
   ]
  },
  {
   "cell_type": "markdown",
   "metadata": {
    "pycharm": {
     "name": "#%% md\n"
    }
   },
   "source": [
    "Read in the data with Dask"
   ]
  },
  {
   "cell_type": "code",
   "execution_count": 3,
   "metadata": {},
   "outputs": [
    {
     "name": "stdout",
     "output_type": "stream",
     "text": [
      "Read csv with dask:  0.37126827239990234 sec\n"
     ]
    }
   ],
   "source": [
    "start = time.time()\n",
    "dask_df = dd.read_csv('archive/train.csv')\n",
    "end = time.time()\n",
    "print(\"Read csv with dask: \",(end-start),\"sec\")"
   ]
  },
  {
   "cell_type": "markdown",
   "metadata": {
    "pycharm": {
     "name": "#%% md\n"
    }
   },
   "source": [
    "Read in the data with Pandas"
   ]
  },
  {
   "cell_type": "code",
   "execution_count": 4,
   "metadata": {},
   "outputs": [
    {
     "name": "stdout",
     "output_type": "stream",
     "text": [
      "Read csv with pandas:  201.0261287689209 sec\n"
     ]
    }
   ],
   "source": [
    "start = time.time()\n",
    "df = pd.read_csv('archive/train.csv')\n",
    "end = time.time()\n",
    "print(\"Read csv with pandas: \",(end-start),\"sec\")"
   ]
  },
  {
   "cell_type": "markdown",
   "metadata": {
    "pycharm": {
     "name": "#%% md\n"
    }
   },
   "source": [
    "Here Dask is better than Pandas, with the least reading time of 0.65 sec"
   ]
  },
  {
   "cell_type": "code",
   "execution_count": 5,
   "metadata": {},
   "outputs": [],
   "source": [
    "df = dd.read_csv('archive/train.csv',delimiter=',')"
   ]
  },
  {
   "cell_type": "code",
   "execution_count": 6,
   "metadata": {},
   "outputs": [
    {
     "name": "stdout",
     "output_type": "stream",
     "text": [
      "<class 'dask.dataframe.core.DataFrame'>\n",
      "Columns: 129 entries, fact_time to gfs_total_clouds_cover_low_next\n",
      "dtypes: object(1), float64(128)"
     ]
    }
   ],
   "source": [
    "df.info()"
   ]
  },
  {
   "cell_type": "code",
   "execution_count": 9,
   "metadata": {},
   "outputs": [
    {
     "data": {
      "text/plain": "(Delayed('int-ebafcbfe-5139-484d-a645-e88c845b30e5'), 129)"
     },
     "execution_count": 9,
     "metadata": {},
     "output_type": "execute_result"
    }
   ],
   "source": [
    "# no. of Rows and no. of Columns\n",
    "df.shape"
   ]
  },
  {
   "cell_type": "code",
   "execution_count": 10,
   "metadata": {},
   "outputs": [
    {
     "name": "stderr",
     "output_type": "stream",
     "text": [
      "C:\\Users\\User\\AppData\\Local\\Temp/ipykernel_5532/4125602703.py:2: FutureWarning: The default value of regex will change from True to False in a future version.\n",
      "  df.columns=df.columns.str.replace('[#,@,&]','')\n"
     ]
    }
   ],
   "source": [
    "# remove special character\n",
    "df.columns=df.columns.str.replace('[#,@,&]','')"
   ]
  },
  {
   "cell_type": "code",
   "execution_count": 11,
   "metadata": {},
   "outputs": [],
   "source": [
    "#To remove white space from columns\n",
    "df.columns = df.columns.str.replace(' ', '')"
   ]
  },
  {
   "cell_type": "code",
   "execution_count": 12,
   "metadata": {},
   "outputs": [
    {
     "name": "stdout",
     "output_type": "stream",
     "text": [
      "['fact_time' 'fact_latitude' 'fact_longitude' 'fact_temperature'\n",
      " 'fact_cwsm_class' 'climate' 'topography_bathymetry' 'sun_elevation'\n",
      " 'climate_temperature' 'climate_pressure' 'cmc_0_0_0_1000'\n",
      " 'cmc_0_0_0_2_grad' 'cmc_0_0_0_2_interpolated' 'cmc_0_0_0_2_next'\n",
      " 'cmc_0_0_0_2' 'cmc_0_0_0_500' 'cmc_0_0_0_700' 'cmc_0_0_0_850'\n",
      " 'cmc_0_0_0_925' 'cmc_0_0_6_2' 'cmc_0_0_7_1000' 'cmc_0_0_7_2'\n",
      " 'cmc_0_0_7_500' 'cmc_0_0_7_700' 'cmc_0_0_7_850' 'cmc_0_0_7_925'\n",
      " 'cmc_0_1_0_0' 'cmc_0_1_11_0' 'cmc_0_1_65_0' 'cmc_0_1_66_0' 'cmc_0_1_67_0'\n",
      " 'cmc_0_1_68_0' 'cmc_0_1_7_0' 'cmc_0_2_2_10' 'cmc_0_2_2_1000'\n",
      " 'cmc_0_2_2_500' 'cmc_0_2_2_700' 'cmc_0_2_2_850' 'cmc_0_2_2_925'\n",
      " 'cmc_0_2_3_10' 'cmc_0_2_3_1000' 'cmc_0_2_3_500' 'cmc_0_2_3_700'\n",
      " 'cmc_0_2_3_850' 'cmc_0_2_3_925' 'cmc_0_3_0_0' 'cmc_0_3_0_0_next'\n",
      " 'cmc_0_3_1_0' 'cmc_0_3_5_1000' 'cmc_0_3_5_500' 'cmc_0_3_5_700'\n",
      " 'cmc_0_3_5_850' 'cmc_0_3_5_925' 'cmc_0_6_1_0' 'cmc_available'\n",
      " 'cmc_horizon_h' 'cmc_precipitations' 'cmc_timedelta_s' 'gfs_2m_dewpoint'\n",
      " 'gfs_a_vorticity' 'gfs_available' 'gfs_cloudness' 'gfs_clouds_sea'\n",
      " 'gfs_horizon_h' 'gfs_humidity' 'gfs_precipitable_water'\n",
      " 'gfs_precipitations' 'gfs_pressure' 'gfs_r_velocity'\n",
      " 'gfs_soil_temperature' 'gfs_soil_temperature_available'\n",
      " 'gfs_temperature_10000' 'gfs_temperature_15000' 'gfs_temperature_20000'\n",
      " 'gfs_temperature_25000' 'gfs_temperature_30000' 'gfs_temperature_35000'\n",
      " 'gfs_temperature_40000' 'gfs_temperature_45000' 'gfs_temperature_5000'\n",
      " 'gfs_temperature_50000' 'gfs_temperature_55000' 'gfs_temperature_60000'\n",
      " 'gfs_temperature_65000' 'gfs_temperature_7000' 'gfs_temperature_70000'\n",
      " 'gfs_temperature_75000' 'gfs_temperature_80000' 'gfs_temperature_85000'\n",
      " 'gfs_temperature_90000' 'gfs_temperature_92500' 'gfs_temperature_95000'\n",
      " 'gfs_temperature_97500' 'gfs_temperature_sea' 'gfs_temperature_sea_grad'\n",
      " 'gfs_temperature_sea_interpolated' 'gfs_temperature_sea_next'\n",
      " 'gfs_timedelta_s' 'gfs_total_clouds_cover_high'\n",
      " 'gfs_total_clouds_cover_low' 'gfs_total_clouds_cover_middle' 'gfs_u_wind'\n",
      " 'gfs_v_wind' 'gfs_wind_speed' 'wrf_available' 'wrf_t2' 'wrf_t2_next'\n",
      " 'wrf_psfc' 'wrf_rh2' 'wrf_wind_u' 'wrf_wind_v' 'wrf_rain' 'wrf_snow'\n",
      " 'wrf_graupel' 'wrf_hail' 'wrf_t2_interpolated' 'wrf_t2_grad'\n",
      " 'cmc_0_1_65_0_grad' 'cmc_0_1_65_0_next' 'cmc_0_1_66_0_grad'\n",
      " 'cmc_0_1_66_0_next' 'cmc_0_1_67_0_grad' 'cmc_0_1_67_0_next'\n",
      " 'cmc_0_1_68_0_grad' 'cmc_0_1_68_0_next' 'gfs_2m_dewpoint_grad'\n",
      " 'gfs_2m_dewpoint_next' 'gfs_total_clouds_cover_low_grad'\n",
      " 'gfs_total_clouds_cover_low_next']\n"
     ]
    }
   ],
   "source": [
    "data=df.columns.values\n",
    "print(data)"
   ]
  },
  {
   "cell_type": "code",
   "execution_count": 13,
   "metadata": {},
   "outputs": [
    {
     "name": "stdout",
     "output_type": "stream",
     "text": [
      "Writing train.yaml\n"
     ]
    }
   ],
   "source": [
    "%%writefile train.yaml\n",
    "file_type: csv\n",
    "dataset_name: file\n",
    "file_name: train\n",
    "table_name: train\n",
    "inbound_delimiter: \",\"\n",
    "outbound_delimiter: \"|\"\n",
    "skip_leading_rows: 1\n",
    "columns: \n",
    "    - fact_time\n",
    "    - fact_latitude\n",
    "    - fact_longitude\n",
    "    - fact_temperature\n",
    "    - fact_cwsm_class\n",
    "    - climate\n",
    "    - topography_bathymetry\n",
    "    - sun_elevation\n",
    "    - climate_temperature\n",
    "    - climate_pressure\n",
    "    - cmc_0_0_0_1000\n",
    "    - cmc_0_0_0_2_grad\n",
    "    - cmc_0_0_0_2_interpolated\n",
    "    - cmc_0_0_0_2_next\n",
    "    - cmc_0_0_0_2\n",
    "    - cmc_0_0_0_500\n",
    "    - cmc_0_0_0_700\n",
    "    - cmc_0_0_0_850\n",
    "    - cmc_0_0_0_925\n",
    "    - cmc_0_0_6_2\n",
    "    - cmc_0_0_7_1000\n",
    "    - cmc_0_0_7_2\n",
    "    - cmc_0_0_7_500\n",
    "    - cmc_0_0_7_700\n",
    "    - cmc_0_0_7_850\n",
    "    - cmc_0_0_7_925\n",
    "    - cmc_0_1_0_0\n",
    "    - cmc_0_1_11_0\n",
    "    - cmc_0_1_65_0\n",
    "    - cmc_0_1_66_0\n",
    "    - cmc_0_1_67_0\n",
    "    - cmc_0_1_68_0\n",
    "    - cmc_0_1_7_0\n",
    "    - cmc_0_2_2_10\n",
    "    - cmc_0_2_2_1000\n",
    "    - cmc_0_2_2_500\n",
    "    - cmc_0_2_2_700\n",
    "    - cmc_0_2_2_850\n",
    "    - cmc_0_2_2_925\n",
    "    - cmc_0_2_3_10\n",
    "    - cmc_0_2_3_1000\n",
    "    - cmc_0_2_3_500\n",
    "    - cmc_0_2_3_700\n",
    "    - cmc_0_2_3_850\n",
    "    - cmc_0_2_3_925\n",
    "    - cmc_0_3_0_0\n",
    "    - cmc_0_3_0_0_next\n",
    "    - cmc_0_3_1_0\n",
    "    - cmc_0_3_5_1000\n",
    "    - cmc_0_3_5_500\n",
    "    - cmc_0_3_5_700\n",
    "    - cmc_0_3_5_850\n",
    "    - cmc_0_3_5_925\n",
    "    - cmc_0_6_1_0\n",
    "    - cmc_available\n",
    "    - cmc_horizon_h\n",
    "    - cmc_precipitations\n",
    "    - cmc_timedelta_s\n",
    "    - gfs_2m_dewpoint\n",
    "    - gfs_a_vorticity\n",
    "    - gfs_available\n",
    "    - gfs_cloudness\n",
    "    - gfs_clouds_sea\n",
    "    - gfs_horizon_h\n",
    "    - gfs_humidity\n",
    "    - gfs_precipitable_water\n",
    "    - gfs_precipitations\n",
    "    - gfs_pressure\n",
    "    - gfs_r_velocity\n",
    "    - gfs_soil_temperature\n",
    "    - gfs_soil_temperature_available\n",
    "    - gfs_temperature_10000\n",
    "    - gfs_temperature_15000\n",
    "    - gfs_temperature_20000\n",
    "    - gfs_temperature_25000\n",
    "    - gfs_temperature_30000\n",
    "    - gfs_temperature_35000\n",
    "    - gfs_temperature_40000\n",
    "    - gfs_temperature_45000\n",
    "    - gfs_temperature_5000\n",
    "    - gfs_temperature_50000\n",
    "    - gfs_temperature_55000\n",
    "    - gfs_temperature_60000\n",
    "    - gfs_temperature_65000\n",
    "    - gfs_temperature_7000\n",
    "    - gfs_temperature_70000\n",
    "    - gfs_temperature_75000\n",
    "    - gfs_temperature_80000\n",
    "    - gfs_temperature_85000\n",
    "    - gfs_temperature_90000\n",
    "    - gfs_temperature_92500\n",
    "    - gfs_temperature_95000\n",
    "    - gfs_temperature_97500\n",
    "    - gfs_temperature_sea\n",
    "    - gfs_temperature_sea_grad\n",
    "    - gfs_temperature_sea_interpolated\n",
    "    - gfs_temperature_sea_next\n",
    "    - gfs_timedelta_s\n",
    "    - gfs_total_clouds_cover_high\n",
    "    - gfs_total_clouds_cover_low\n",
    "    - gfs_total_clouds_cover_middle\n",
    "    - gfs_u_wind\n",
    "    - gfs_v_wind\n",
    "    - gfs_wind_speed\n",
    "    - wrf_available\n",
    "    - wrf_t2\n",
    "    - wrf_t2_next\n",
    "    - wrf_psfc\n",
    "    - wrf_rh2\n",
    "    - wrf_wind_u\n",
    "    - wrf_wind_v\n",
    "    - wrf_rain\n",
    "    - wrf_snow\n",
    "    - wrf_graupel\n",
    "    - wrf_hail\n",
    "    - wrf_t2_interpolated\n",
    "    - wrf_t2_grad\n",
    "    - cmc_0_1_65_0_grad\n",
    "    - cmc_0_1_65_0_next\n",
    "    - cmc_0_1_66_0_grad\n",
    "    - cmc_0_1_66_0_next\n",
    "    - cmc_0_1_67_0_grad\n",
    "    - cmc_0_1_67_0_next\n",
    "    - cmc_0_1_68_0_grad\n",
    "    - cmc_0_1_68_0_next\n",
    "    - gfs_2m_dewpoint_grad\n",
    "    - gfs_2m_dewpoint_next\n",
    "    - gfs_total_clouds_cover_low_grad\n",
    "    - gfs_total_clouds_cover_low_next"
   ]
  },
  {
   "cell_type": "code",
   "execution_count": 14,
   "metadata": {},
   "outputs": [],
   "source": [
    "# reading config file\n",
    "# utility module is provided by Data Glacier\n",
    "import utility as util\n",
    "config_data = util.read_config_file(\"train.yaml\")"
   ]
  },
  {
   "cell_type": "code",
   "execution_count": 15,
   "metadata": {},
   "outputs": [
    {
     "data": {
      "text/plain": "{'file_type': 'csv',\n 'dataset_name': 'file',\n 'file_name': 'train',\n 'table_name': 'train',\n 'inbound_delimiter': ',',\n 'outbound_delimiter': '|',\n 'skip_leading_rows': 1,\n 'columns': ['fact_time',\n  'fact_latitude',\n  'fact_longitude',\n  'fact_temperature',\n  'fact_cwsm_class',\n  'climate',\n  'topography_bathymetry',\n  'sun_elevation',\n  'climate_temperature',\n  'climate_pressure',\n  'cmc_0_0_0_1000',\n  'cmc_0_0_0_2_grad',\n  'cmc_0_0_0_2_interpolated',\n  'cmc_0_0_0_2_next',\n  'cmc_0_0_0_2',\n  'cmc_0_0_0_500',\n  'cmc_0_0_0_700',\n  'cmc_0_0_0_850',\n  'cmc_0_0_0_925',\n  'cmc_0_0_6_2',\n  'cmc_0_0_7_1000',\n  'cmc_0_0_7_2',\n  'cmc_0_0_7_500',\n  'cmc_0_0_7_700',\n  'cmc_0_0_7_850',\n  'cmc_0_0_7_925',\n  'cmc_0_1_0_0',\n  'cmc_0_1_11_0',\n  'cmc_0_1_65_0',\n  'cmc_0_1_66_0',\n  'cmc_0_1_67_0',\n  'cmc_0_1_68_0',\n  'cmc_0_1_7_0',\n  'cmc_0_2_2_10',\n  'cmc_0_2_2_1000',\n  'cmc_0_2_2_500',\n  'cmc_0_2_2_700',\n  'cmc_0_2_2_850',\n  'cmc_0_2_2_925',\n  'cmc_0_2_3_10',\n  'cmc_0_2_3_1000',\n  'cmc_0_2_3_500',\n  'cmc_0_2_3_700',\n  'cmc_0_2_3_850',\n  'cmc_0_2_3_925',\n  'cmc_0_3_0_0',\n  'cmc_0_3_0_0_next',\n  'cmc_0_3_1_0',\n  'cmc_0_3_5_1000',\n  'cmc_0_3_5_500',\n  'cmc_0_3_5_700',\n  'cmc_0_3_5_850',\n  'cmc_0_3_5_925',\n  'cmc_0_6_1_0',\n  'cmc_available',\n  'cmc_horizon_h',\n  'cmc_precipitations',\n  'cmc_timedelta_s',\n  'gfs_2m_dewpoint',\n  'gfs_a_vorticity',\n  'gfs_available',\n  'gfs_cloudness',\n  'gfs_clouds_sea',\n  'gfs_horizon_h',\n  'gfs_humidity',\n  'gfs_precipitable_water',\n  'gfs_precipitations',\n  'gfs_pressure',\n  'gfs_r_velocity',\n  'gfs_soil_temperature',\n  'gfs_soil_temperature_available',\n  'gfs_temperature_10000',\n  'gfs_temperature_15000',\n  'gfs_temperature_20000',\n  'gfs_temperature_25000',\n  'gfs_temperature_30000',\n  'gfs_temperature_35000',\n  'gfs_temperature_40000',\n  'gfs_temperature_45000',\n  'gfs_temperature_5000',\n  'gfs_temperature_50000',\n  'gfs_temperature_55000',\n  'gfs_temperature_60000',\n  'gfs_temperature_65000',\n  'gfs_temperature_7000',\n  'gfs_temperature_70000',\n  'gfs_temperature_75000',\n  'gfs_temperature_80000',\n  'gfs_temperature_85000',\n  'gfs_temperature_90000',\n  'gfs_temperature_92500',\n  'gfs_temperature_95000',\n  'gfs_temperature_97500',\n  'gfs_temperature_sea',\n  'gfs_temperature_sea_grad',\n  'gfs_temperature_sea_interpolated',\n  'gfs_temperature_sea_next',\n  'gfs_timedelta_s',\n  'gfs_total_clouds_cover_high',\n  'gfs_total_clouds_cover_low',\n  'gfs_total_clouds_cover_middle',\n  'gfs_u_wind',\n  'gfs_v_wind',\n  'gfs_wind_speed',\n  'wrf_available',\n  'wrf_t2',\n  'wrf_t2_next',\n  'wrf_psfc',\n  'wrf_rh2',\n  'wrf_wind_u',\n  'wrf_wind_v',\n  'wrf_rain',\n  'wrf_snow',\n  'wrf_graupel',\n  'wrf_hail',\n  'wrf_t2_interpolated',\n  'wrf_t2_grad',\n  'cmc_0_1_65_0_grad',\n  'cmc_0_1_65_0_next',\n  'cmc_0_1_66_0_grad',\n  'cmc_0_1_66_0_next',\n  'cmc_0_1_67_0_grad',\n  'cmc_0_1_67_0_next',\n  'cmc_0_1_68_0_grad',\n  'cmc_0_1_68_0_next',\n  'gfs_2m_dewpoint_grad',\n  'gfs_2m_dewpoint_next',\n  'gfs_total_clouds_cover_low_grad',\n  'gfs_total_clouds_cover_low_next']}"
     },
     "execution_count": 15,
     "metadata": {},
     "output_type": "execute_result"
    }
   ],
   "source": [
    "# data of config file\n",
    "config_data"
   ]
  },
  {
   "cell_type": "code",
   "execution_count": 16,
   "metadata": {},
   "outputs": [
    {
     "data": {
      "text/plain": "      fact_time  fact_latitude  fact_longitude  fact_temperature  \\\n0  1.543321e+09      26.968800      -99.248901               2.0   \n1  1.538776e+09      29.374201     -100.927002              31.0   \n2  1.552115e+09      22.149599      113.592003              17.0   \n3  1.549566e+09      34.678699      -86.684799              24.0   \n4  1.552910e+09      46.066667       41.966667               9.0   \n\n   fact_cwsm_class         climate  topography_bathymetry  sun_elevation  \\\n0              0.0             dry                  127.0     -17.526443   \n1             20.0  mild temperate                  297.0      41.531032   \n2             10.0  mild temperate                   -1.0      43.916531   \n3             20.0  mild temperate                  193.0      40.240955   \n4             20.0             dry                   90.0      30.394660   \n\n   climate_temperature  climate_pressure  ...  cmc_0_1_66_0_grad  \\\n0            14.613571        754.263405  ...                0.0   \n1            26.992143        733.117168  ...                0.0   \n2            18.842143        761.571076  ...                0.0   \n3             8.303571        747.524910  ...                0.0   \n4             6.451429        753.168113  ...                0.0   \n\n   cmc_0_1_66_0_next  cmc_0_1_67_0_grad  cmc_0_1_67_0_next  cmc_0_1_68_0_grad  \\\n0                0.0                0.0                0.0                0.0   \n1                0.0                0.0                0.0                0.0   \n2                0.0                0.0                0.0                0.0   \n3                0.0                0.0                0.0                0.0   \n4                0.0                0.0                0.0                0.0   \n\n   cmc_0_1_68_0_next  gfs_2m_dewpoint_grad  gfs_2m_dewpoint_next  \\\n0                0.0             -2.600006             -2.750006   \n1                0.0             -0.600006             17.950006   \n2                0.0             -0.233978             21.450006   \n3                0.0              0.059448             16.150018   \n4                0.0              0.400024              3.150018   \n\n   gfs_total_clouds_cover_low_grad  gfs_total_clouds_cover_low_next  \n0                              0.0                              0.0  \n1                            -12.0                             11.0  \n2                              1.0                              8.0  \n3                            -58.0                             41.0  \n4                             18.0                             92.0  \n\n[5 rows x 129 columns]",
      "text/html": "<div>\n<style scoped>\n    .dataframe tbody tr th:only-of-type {\n        vertical-align: middle;\n    }\n\n    .dataframe tbody tr th {\n        vertical-align: top;\n    }\n\n    .dataframe thead th {\n        text-align: right;\n    }\n</style>\n<table border=\"1\" class=\"dataframe\">\n  <thead>\n    <tr style=\"text-align: right;\">\n      <th></th>\n      <th>fact_time</th>\n      <th>fact_latitude</th>\n      <th>fact_longitude</th>\n      <th>fact_temperature</th>\n      <th>fact_cwsm_class</th>\n      <th>climate</th>\n      <th>topography_bathymetry</th>\n      <th>sun_elevation</th>\n      <th>climate_temperature</th>\n      <th>climate_pressure</th>\n      <th>...</th>\n      <th>cmc_0_1_66_0_grad</th>\n      <th>cmc_0_1_66_0_next</th>\n      <th>cmc_0_1_67_0_grad</th>\n      <th>cmc_0_1_67_0_next</th>\n      <th>cmc_0_1_68_0_grad</th>\n      <th>cmc_0_1_68_0_next</th>\n      <th>gfs_2m_dewpoint_grad</th>\n      <th>gfs_2m_dewpoint_next</th>\n      <th>gfs_total_clouds_cover_low_grad</th>\n      <th>gfs_total_clouds_cover_low_next</th>\n    </tr>\n  </thead>\n  <tbody>\n    <tr>\n      <th>0</th>\n      <td>1.543321e+09</td>\n      <td>26.968800</td>\n      <td>-99.248901</td>\n      <td>2.0</td>\n      <td>0.0</td>\n      <td>dry</td>\n      <td>127.0</td>\n      <td>-17.526443</td>\n      <td>14.613571</td>\n      <td>754.263405</td>\n      <td>...</td>\n      <td>0.0</td>\n      <td>0.0</td>\n      <td>0.0</td>\n      <td>0.0</td>\n      <td>0.0</td>\n      <td>0.0</td>\n      <td>-2.600006</td>\n      <td>-2.750006</td>\n      <td>0.0</td>\n      <td>0.0</td>\n    </tr>\n    <tr>\n      <th>1</th>\n      <td>1.538776e+09</td>\n      <td>29.374201</td>\n      <td>-100.927002</td>\n      <td>31.0</td>\n      <td>20.0</td>\n      <td>mild temperate</td>\n      <td>297.0</td>\n      <td>41.531032</td>\n      <td>26.992143</td>\n      <td>733.117168</td>\n      <td>...</td>\n      <td>0.0</td>\n      <td>0.0</td>\n      <td>0.0</td>\n      <td>0.0</td>\n      <td>0.0</td>\n      <td>0.0</td>\n      <td>-0.600006</td>\n      <td>17.950006</td>\n      <td>-12.0</td>\n      <td>11.0</td>\n    </tr>\n    <tr>\n      <th>2</th>\n      <td>1.552115e+09</td>\n      <td>22.149599</td>\n      <td>113.592003</td>\n      <td>17.0</td>\n      <td>10.0</td>\n      <td>mild temperate</td>\n      <td>-1.0</td>\n      <td>43.916531</td>\n      <td>18.842143</td>\n      <td>761.571076</td>\n      <td>...</td>\n      <td>0.0</td>\n      <td>0.0</td>\n      <td>0.0</td>\n      <td>0.0</td>\n      <td>0.0</td>\n      <td>0.0</td>\n      <td>-0.233978</td>\n      <td>21.450006</td>\n      <td>1.0</td>\n      <td>8.0</td>\n    </tr>\n    <tr>\n      <th>3</th>\n      <td>1.549566e+09</td>\n      <td>34.678699</td>\n      <td>-86.684799</td>\n      <td>24.0</td>\n      <td>20.0</td>\n      <td>mild temperate</td>\n      <td>193.0</td>\n      <td>40.240955</td>\n      <td>8.303571</td>\n      <td>747.524910</td>\n      <td>...</td>\n      <td>0.0</td>\n      <td>0.0</td>\n      <td>0.0</td>\n      <td>0.0</td>\n      <td>0.0</td>\n      <td>0.0</td>\n      <td>0.059448</td>\n      <td>16.150018</td>\n      <td>-58.0</td>\n      <td>41.0</td>\n    </tr>\n    <tr>\n      <th>4</th>\n      <td>1.552910e+09</td>\n      <td>46.066667</td>\n      <td>41.966667</td>\n      <td>9.0</td>\n      <td>20.0</td>\n      <td>dry</td>\n      <td>90.0</td>\n      <td>30.394660</td>\n      <td>6.451429</td>\n      <td>753.168113</td>\n      <td>...</td>\n      <td>0.0</td>\n      <td>0.0</td>\n      <td>0.0</td>\n      <td>0.0</td>\n      <td>0.0</td>\n      <td>0.0</td>\n      <td>0.400024</td>\n      <td>3.150018</td>\n      <td>18.0</td>\n      <td>92.0</td>\n    </tr>\n  </tbody>\n</table>\n<p>5 rows × 129 columns</p>\n</div>"
     },
     "execution_count": 16,
     "metadata": {},
     "output_type": "execute_result"
    }
   ],
   "source": [
    "# reading process of the file using Dask\n",
    "df_sample = dd.read_csv('archive/train.csv',delimiter=',')\n",
    "df_sample.head()"
   ]
  },
  {
   "cell_type": "code",
   "execution_count": 17,
   "metadata": {},
   "outputs": [],
   "source": [
    "# reading the file using config file\n",
    "file_type = config_data['file_type']\n",
    "source_file = \"archive/\" + config_data['file_name'] + f'.{file_type}'"
   ]
  },
  {
   "cell_type": "code",
   "execution_count": 18,
   "metadata": {},
   "outputs": [
    {
     "name": "stderr",
     "output_type": "stream",
     "text": [
      "c:\\users\\user\\appdata\\local\\programs\\python\\python39\\lib\\site-packages\\IPython\\core\\interactiveshell.py:3441: FutureWarning: In a future version of pandas all arguments of read_csv except for the argument 'filepath_or_buffer' will be keyword-only\n",
      "  exec(code_obj, self.user_global_ns, self.user_ns)\n"
     ]
    },
    {
     "data": {
      "text/plain": "      fact_time  fact_latitude  fact_longitude  fact_temperature  \\\n0  1.543321e+09      26.968800      -99.248901               2.0   \n1  1.538776e+09      29.374201     -100.927002              31.0   \n2  1.552115e+09      22.149599      113.592003              17.0   \n3  1.549566e+09      34.678699      -86.684799              24.0   \n4  1.552910e+09      46.066667       41.966667               9.0   \n\n   fact_cwsm_class         climate  topography_bathymetry  sun_elevation  \\\n0              0.0             dry                  127.0     -17.526443   \n1             20.0  mild temperate                  297.0      41.531032   \n2             10.0  mild temperate                   -1.0      43.916531   \n3             20.0  mild temperate                  193.0      40.240955   \n4             20.0             dry                   90.0      30.394660   \n\n   climate_temperature  climate_pressure  ...  cmc_0_1_66_0_grad  \\\n0            14.613571        754.263405  ...                0.0   \n1            26.992143        733.117168  ...                0.0   \n2            18.842143        761.571076  ...                0.0   \n3             8.303571        747.524910  ...                0.0   \n4             6.451429        753.168113  ...                0.0   \n\n   cmc_0_1_66_0_next  cmc_0_1_67_0_grad  cmc_0_1_67_0_next  cmc_0_1_68_0_grad  \\\n0                0.0                0.0                0.0                0.0   \n1                0.0                0.0                0.0                0.0   \n2                0.0                0.0                0.0                0.0   \n3                0.0                0.0                0.0                0.0   \n4                0.0                0.0                0.0                0.0   \n\n   cmc_0_1_68_0_next  gfs_2m_dewpoint_grad  gfs_2m_dewpoint_next  \\\n0                0.0             -2.600006             -2.750006   \n1                0.0             -0.600006             17.950006   \n2                0.0             -0.233978             21.450006   \n3                0.0              0.059448             16.150018   \n4                0.0              0.400024              3.150018   \n\n   gfs_total_clouds_cover_low_grad  gfs_total_clouds_cover_low_next  \n0                              0.0                              0.0  \n1                            -12.0                             11.0  \n2                              1.0                              8.0  \n3                            -58.0                             41.0  \n4                             18.0                             92.0  \n\n[5 rows x 129 columns]",
      "text/html": "<div>\n<style scoped>\n    .dataframe tbody tr th:only-of-type {\n        vertical-align: middle;\n    }\n\n    .dataframe tbody tr th {\n        vertical-align: top;\n    }\n\n    .dataframe thead th {\n        text-align: right;\n    }\n</style>\n<table border=\"1\" class=\"dataframe\">\n  <thead>\n    <tr style=\"text-align: right;\">\n      <th></th>\n      <th>fact_time</th>\n      <th>fact_latitude</th>\n      <th>fact_longitude</th>\n      <th>fact_temperature</th>\n      <th>fact_cwsm_class</th>\n      <th>climate</th>\n      <th>topography_bathymetry</th>\n      <th>sun_elevation</th>\n      <th>climate_temperature</th>\n      <th>climate_pressure</th>\n      <th>...</th>\n      <th>cmc_0_1_66_0_grad</th>\n      <th>cmc_0_1_66_0_next</th>\n      <th>cmc_0_1_67_0_grad</th>\n      <th>cmc_0_1_67_0_next</th>\n      <th>cmc_0_1_68_0_grad</th>\n      <th>cmc_0_1_68_0_next</th>\n      <th>gfs_2m_dewpoint_grad</th>\n      <th>gfs_2m_dewpoint_next</th>\n      <th>gfs_total_clouds_cover_low_grad</th>\n      <th>gfs_total_clouds_cover_low_next</th>\n    </tr>\n  </thead>\n  <tbody>\n    <tr>\n      <th>0</th>\n      <td>1.543321e+09</td>\n      <td>26.968800</td>\n      <td>-99.248901</td>\n      <td>2.0</td>\n      <td>0.0</td>\n      <td>dry</td>\n      <td>127.0</td>\n      <td>-17.526443</td>\n      <td>14.613571</td>\n      <td>754.263405</td>\n      <td>...</td>\n      <td>0.0</td>\n      <td>0.0</td>\n      <td>0.0</td>\n      <td>0.0</td>\n      <td>0.0</td>\n      <td>0.0</td>\n      <td>-2.600006</td>\n      <td>-2.750006</td>\n      <td>0.0</td>\n      <td>0.0</td>\n    </tr>\n    <tr>\n      <th>1</th>\n      <td>1.538776e+09</td>\n      <td>29.374201</td>\n      <td>-100.927002</td>\n      <td>31.0</td>\n      <td>20.0</td>\n      <td>mild temperate</td>\n      <td>297.0</td>\n      <td>41.531032</td>\n      <td>26.992143</td>\n      <td>733.117168</td>\n      <td>...</td>\n      <td>0.0</td>\n      <td>0.0</td>\n      <td>0.0</td>\n      <td>0.0</td>\n      <td>0.0</td>\n      <td>0.0</td>\n      <td>-0.600006</td>\n      <td>17.950006</td>\n      <td>-12.0</td>\n      <td>11.0</td>\n    </tr>\n    <tr>\n      <th>2</th>\n      <td>1.552115e+09</td>\n      <td>22.149599</td>\n      <td>113.592003</td>\n      <td>17.0</td>\n      <td>10.0</td>\n      <td>mild temperate</td>\n      <td>-1.0</td>\n      <td>43.916531</td>\n      <td>18.842143</td>\n      <td>761.571076</td>\n      <td>...</td>\n      <td>0.0</td>\n      <td>0.0</td>\n      <td>0.0</td>\n      <td>0.0</td>\n      <td>0.0</td>\n      <td>0.0</td>\n      <td>-0.233978</td>\n      <td>21.450006</td>\n      <td>1.0</td>\n      <td>8.0</td>\n    </tr>\n    <tr>\n      <th>3</th>\n      <td>1.549566e+09</td>\n      <td>34.678699</td>\n      <td>-86.684799</td>\n      <td>24.0</td>\n      <td>20.0</td>\n      <td>mild temperate</td>\n      <td>193.0</td>\n      <td>40.240955</td>\n      <td>8.303571</td>\n      <td>747.524910</td>\n      <td>...</td>\n      <td>0.0</td>\n      <td>0.0</td>\n      <td>0.0</td>\n      <td>0.0</td>\n      <td>0.0</td>\n      <td>0.0</td>\n      <td>0.059448</td>\n      <td>16.150018</td>\n      <td>-58.0</td>\n      <td>41.0</td>\n    </tr>\n    <tr>\n      <th>4</th>\n      <td>1.552910e+09</td>\n      <td>46.066667</td>\n      <td>41.966667</td>\n      <td>9.0</td>\n      <td>20.0</td>\n      <td>dry</td>\n      <td>90.0</td>\n      <td>30.394660</td>\n      <td>6.451429</td>\n      <td>753.168113</td>\n      <td>...</td>\n      <td>0.0</td>\n      <td>0.0</td>\n      <td>0.0</td>\n      <td>0.0</td>\n      <td>0.0</td>\n      <td>0.0</td>\n      <td>0.400024</td>\n      <td>3.150018</td>\n      <td>18.0</td>\n      <td>92.0</td>\n    </tr>\n  </tbody>\n</table>\n<p>5 rows × 129 columns</p>\n</div>"
     },
     "execution_count": 18,
     "metadata": {},
     "output_type": "execute_result"
    }
   ],
   "source": [
    "df = pd.read_csv(source_file,config_data['inbound_delimiter'])\n",
    "df.head()"
   ]
  },
  {
   "cell_type": "code",
   "execution_count": 19,
   "metadata": {},
   "outputs": [
    {
     "name": "stdout",
     "output_type": "stream",
     "text": [
      "column name and column length validation passed\n"
     ]
    },
    {
     "data": {
      "text/plain": "1"
     },
     "execution_count": 19,
     "metadata": {},
     "output_type": "execute_result"
    }
   ],
   "source": [
    "# validating the header of the file\n",
    "util.col_header_val(df,config_data)"
   ]
  },
  {
   "cell_type": "code",
   "execution_count": 20,
   "metadata": {},
   "outputs": [
    {
     "name": "stdout",
     "output_type": "stream",
     "text": [
      "columns of files are: Index(['fact_time', 'fact_latitude', 'fact_longitude', 'fact_temperature',\n",
      "       'fact_cwsm_class', 'climate', 'topography_bathymetry', 'sun_elevation',\n",
      "       'climate_temperature', 'climate_pressure',\n",
      "       ...\n",
      "       'cmc_0_1_66_0_grad', 'cmc_0_1_66_0_next', 'cmc_0_1_67_0_grad',\n",
      "       'cmc_0_1_67_0_next', 'cmc_0_1_68_0_grad', 'cmc_0_1_68_0_next',\n",
      "       'gfs_2m_dewpoint_grad', 'gfs_2m_dewpoint_next',\n",
      "       'gfs_total_clouds_cover_low_grad', 'gfs_total_clouds_cover_low_next'],\n",
      "      dtype='object', length=129)\n",
      "columns of YAML are: ['fact_time', 'fact_latitude', 'fact_longitude', 'fact_temperature', 'fact_cwsm_class', 'climate', 'topography_bathymetry', 'sun_elevation', 'climate_temperature', 'climate_pressure', 'cmc_0_0_0_1000', 'cmc_0_0_0_2_grad', 'cmc_0_0_0_2_interpolated', 'cmc_0_0_0_2_next', 'cmc_0_0_0_2', 'cmc_0_0_0_500', 'cmc_0_0_0_700', 'cmc_0_0_0_850', 'cmc_0_0_0_925', 'cmc_0_0_6_2', 'cmc_0_0_7_1000', 'cmc_0_0_7_2', 'cmc_0_0_7_500', 'cmc_0_0_7_700', 'cmc_0_0_7_850', 'cmc_0_0_7_925', 'cmc_0_1_0_0', 'cmc_0_1_11_0', 'cmc_0_1_65_0', 'cmc_0_1_66_0', 'cmc_0_1_67_0', 'cmc_0_1_68_0', 'cmc_0_1_7_0', 'cmc_0_2_2_10', 'cmc_0_2_2_1000', 'cmc_0_2_2_500', 'cmc_0_2_2_700', 'cmc_0_2_2_850', 'cmc_0_2_2_925', 'cmc_0_2_3_10', 'cmc_0_2_3_1000', 'cmc_0_2_3_500', 'cmc_0_2_3_700', 'cmc_0_2_3_850', 'cmc_0_2_3_925', 'cmc_0_3_0_0', 'cmc_0_3_0_0_next', 'cmc_0_3_1_0', 'cmc_0_3_5_1000', 'cmc_0_3_5_500', 'cmc_0_3_5_700', 'cmc_0_3_5_850', 'cmc_0_3_5_925', 'cmc_0_6_1_0', 'cmc_available', 'cmc_horizon_h', 'cmc_precipitations', 'cmc_timedelta_s', 'gfs_2m_dewpoint', 'gfs_a_vorticity', 'gfs_available', 'gfs_cloudness', 'gfs_clouds_sea', 'gfs_horizon_h', 'gfs_humidity', 'gfs_precipitable_water', 'gfs_precipitations', 'gfs_pressure', 'gfs_r_velocity', 'gfs_soil_temperature', 'gfs_soil_temperature_available', 'gfs_temperature_10000', 'gfs_temperature_15000', 'gfs_temperature_20000', 'gfs_temperature_25000', 'gfs_temperature_30000', 'gfs_temperature_35000', 'gfs_temperature_40000', 'gfs_temperature_45000', 'gfs_temperature_5000', 'gfs_temperature_50000', 'gfs_temperature_55000', 'gfs_temperature_60000', 'gfs_temperature_65000', 'gfs_temperature_7000', 'gfs_temperature_70000', 'gfs_temperature_75000', 'gfs_temperature_80000', 'gfs_temperature_85000', 'gfs_temperature_90000', 'gfs_temperature_92500', 'gfs_temperature_95000', 'gfs_temperature_97500', 'gfs_temperature_sea', 'gfs_temperature_sea_grad', 'gfs_temperature_sea_interpolated', 'gfs_temperature_sea_next', 'gfs_timedelta_s', 'gfs_total_clouds_cover_high', 'gfs_total_clouds_cover_low', 'gfs_total_clouds_cover_middle', 'gfs_u_wind', 'gfs_v_wind', 'gfs_wind_speed', 'wrf_available', 'wrf_t2', 'wrf_t2_next', 'wrf_psfc', 'wrf_rh2', 'wrf_wind_u', 'wrf_wind_v', 'wrf_rain', 'wrf_snow', 'wrf_graupel', 'wrf_hail', 'wrf_t2_interpolated', 'wrf_t2_grad', 'cmc_0_1_65_0_grad', 'cmc_0_1_65_0_next', 'cmc_0_1_66_0_grad', 'cmc_0_1_66_0_next', 'cmc_0_1_67_0_grad', 'cmc_0_1_67_0_next', 'cmc_0_1_68_0_grad', 'cmc_0_1_68_0_next', 'gfs_2m_dewpoint_grad', 'gfs_2m_dewpoint_next', 'gfs_total_clouds_cover_low_grad', 'gfs_total_clouds_cover_low_next']\n"
     ]
    }
   ],
   "source": [
    "print(\"columns of files are:\" ,df.columns)\n",
    "print(\"columns of YAML are:\" ,config_data['columns'])"
   ]
  },
  {
   "cell_type": "code",
   "execution_count": 21,
   "metadata": {},
   "outputs": [
    {
     "name": "stdout",
     "output_type": "stream",
     "text": [
      "column name and column length validation passed\n",
      "col validation passed\n"
     ]
    }
   ],
   "source": [
    "if util.col_header_val(df,config_data)==0:\n",
    "    print(\"validation failed\")\n",
    "else:\n",
    "    print(\"col validation passed\")"
   ]
  },
  {
   "cell_type": "code",
   "execution_count": 22,
   "metadata": {},
   "outputs": [
    {
     "data": {
      "text/plain": "['D:/DG Internship stuff/Week 6 Data Ingestion/train.csv.gz\\\\000.part',\n 'D:/DG Internship stuff/Week 6 Data Ingestion/train.csv.gz\\\\001.part',\n 'D:/DG Internship stuff/Week 6 Data Ingestion/train.csv.gz\\\\002.part',\n 'D:/DG Internship stuff/Week 6 Data Ingestion/train.csv.gz\\\\003.part',\n 'D:/DG Internship stuff/Week 6 Data Ingestion/train.csv.gz\\\\004.part',\n 'D:/DG Internship stuff/Week 6 Data Ingestion/train.csv.gz\\\\005.part',\n 'D:/DG Internship stuff/Week 6 Data Ingestion/train.csv.gz\\\\006.part',\n 'D:/DG Internship stuff/Week 6 Data Ingestion/train.csv.gz\\\\007.part',\n 'D:/DG Internship stuff/Week 6 Data Ingestion/train.csv.gz\\\\008.part',\n 'D:/DG Internship stuff/Week 6 Data Ingestion/train.csv.gz\\\\009.part',\n 'D:/DG Internship stuff/Week 6 Data Ingestion/train.csv.gz\\\\010.part',\n 'D:/DG Internship stuff/Week 6 Data Ingestion/train.csv.gz\\\\011.part',\n 'D:/DG Internship stuff/Week 6 Data Ingestion/train.csv.gz\\\\012.part',\n 'D:/DG Internship stuff/Week 6 Data Ingestion/train.csv.gz\\\\013.part',\n 'D:/DG Internship stuff/Week 6 Data Ingestion/train.csv.gz\\\\014.part',\n 'D:/DG Internship stuff/Week 6 Data Ingestion/train.csv.gz\\\\015.part',\n 'D:/DG Internship stuff/Week 6 Data Ingestion/train.csv.gz\\\\016.part',\n 'D:/DG Internship stuff/Week 6 Data Ingestion/train.csv.gz\\\\017.part',\n 'D:/DG Internship stuff/Week 6 Data Ingestion/train.csv.gz\\\\018.part',\n 'D:/DG Internship stuff/Week 6 Data Ingestion/train.csv.gz\\\\019.part',\n 'D:/DG Internship stuff/Week 6 Data Ingestion/train.csv.gz\\\\020.part',\n 'D:/DG Internship stuff/Week 6 Data Ingestion/train.csv.gz\\\\021.part',\n 'D:/DG Internship stuff/Week 6 Data Ingestion/train.csv.gz\\\\022.part',\n 'D:/DG Internship stuff/Week 6 Data Ingestion/train.csv.gz\\\\023.part',\n 'D:/DG Internship stuff/Week 6 Data Ingestion/train.csv.gz\\\\024.part',\n 'D:/DG Internship stuff/Week 6 Data Ingestion/train.csv.gz\\\\025.part',\n 'D:/DG Internship stuff/Week 6 Data Ingestion/train.csv.gz\\\\026.part',\n 'D:/DG Internship stuff/Week 6 Data Ingestion/train.csv.gz\\\\027.part',\n 'D:/DG Internship stuff/Week 6 Data Ingestion/train.csv.gz\\\\028.part',\n 'D:/DG Internship stuff/Week 6 Data Ingestion/train.csv.gz\\\\029.part',\n 'D:/DG Internship stuff/Week 6 Data Ingestion/train.csv.gz\\\\030.part',\n 'D:/DG Internship stuff/Week 6 Data Ingestion/train.csv.gz\\\\031.part',\n 'D:/DG Internship stuff/Week 6 Data Ingestion/train.csv.gz\\\\032.part',\n 'D:/DG Internship stuff/Week 6 Data Ingestion/train.csv.gz\\\\033.part',\n 'D:/DG Internship stuff/Week 6 Data Ingestion/train.csv.gz\\\\034.part',\n 'D:/DG Internship stuff/Week 6 Data Ingestion/train.csv.gz\\\\035.part',\n 'D:/DG Internship stuff/Week 6 Data Ingestion/train.csv.gz\\\\036.part',\n 'D:/DG Internship stuff/Week 6 Data Ingestion/train.csv.gz\\\\037.part',\n 'D:/DG Internship stuff/Week 6 Data Ingestion/train.csv.gz\\\\038.part',\n 'D:/DG Internship stuff/Week 6 Data Ingestion/train.csv.gz\\\\039.part',\n 'D:/DG Internship stuff/Week 6 Data Ingestion/train.csv.gz\\\\040.part',\n 'D:/DG Internship stuff/Week 6 Data Ingestion/train.csv.gz\\\\041.part',\n 'D:/DG Internship stuff/Week 6 Data Ingestion/train.csv.gz\\\\042.part',\n 'D:/DG Internship stuff/Week 6 Data Ingestion/train.csv.gz\\\\043.part',\n 'D:/DG Internship stuff/Week 6 Data Ingestion/train.csv.gz\\\\044.part',\n 'D:/DG Internship stuff/Week 6 Data Ingestion/train.csv.gz\\\\045.part',\n 'D:/DG Internship stuff/Week 6 Data Ingestion/train.csv.gz\\\\046.part',\n 'D:/DG Internship stuff/Week 6 Data Ingestion/train.csv.gz\\\\047.part',\n 'D:/DG Internship stuff/Week 6 Data Ingestion/train.csv.gz\\\\048.part',\n 'D:/DG Internship stuff/Week 6 Data Ingestion/train.csv.gz\\\\049.part',\n 'D:/DG Internship stuff/Week 6 Data Ingestion/train.csv.gz\\\\050.part',\n 'D:/DG Internship stuff/Week 6 Data Ingestion/train.csv.gz\\\\051.part',\n 'D:/DG Internship stuff/Week 6 Data Ingestion/train.csv.gz\\\\052.part',\n 'D:/DG Internship stuff/Week 6 Data Ingestion/train.csv.gz\\\\053.part',\n 'D:/DG Internship stuff/Week 6 Data Ingestion/train.csv.gz\\\\054.part',\n 'D:/DG Internship stuff/Week 6 Data Ingestion/train.csv.gz\\\\055.part',\n 'D:/DG Internship stuff/Week 6 Data Ingestion/train.csv.gz\\\\056.part',\n 'D:/DG Internship stuff/Week 6 Data Ingestion/train.csv.gz\\\\057.part',\n 'D:/DG Internship stuff/Week 6 Data Ingestion/train.csv.gz\\\\058.part',\n 'D:/DG Internship stuff/Week 6 Data Ingestion/train.csv.gz\\\\059.part',\n 'D:/DG Internship stuff/Week 6 Data Ingestion/train.csv.gz\\\\060.part',\n 'D:/DG Internship stuff/Week 6 Data Ingestion/train.csv.gz\\\\061.part',\n 'D:/DG Internship stuff/Week 6 Data Ingestion/train.csv.gz\\\\062.part',\n 'D:/DG Internship stuff/Week 6 Data Ingestion/train.csv.gz\\\\063.part',\n 'D:/DG Internship stuff/Week 6 Data Ingestion/train.csv.gz\\\\064.part',\n 'D:/DG Internship stuff/Week 6 Data Ingestion/train.csv.gz\\\\065.part',\n 'D:/DG Internship stuff/Week 6 Data Ingestion/train.csv.gz\\\\066.part',\n 'D:/DG Internship stuff/Week 6 Data Ingestion/train.csv.gz\\\\067.part',\n 'D:/DG Internship stuff/Week 6 Data Ingestion/train.csv.gz\\\\068.part',\n 'D:/DG Internship stuff/Week 6 Data Ingestion/train.csv.gz\\\\069.part',\n 'D:/DG Internship stuff/Week 6 Data Ingestion/train.csv.gz\\\\070.part',\n 'D:/DG Internship stuff/Week 6 Data Ingestion/train.csv.gz\\\\071.part',\n 'D:/DG Internship stuff/Week 6 Data Ingestion/train.csv.gz\\\\072.part',\n 'D:/DG Internship stuff/Week 6 Data Ingestion/train.csv.gz\\\\073.part',\n 'D:/DG Internship stuff/Week 6 Data Ingestion/train.csv.gz\\\\074.part',\n 'D:/DG Internship stuff/Week 6 Data Ingestion/train.csv.gz\\\\075.part',\n 'D:/DG Internship stuff/Week 6 Data Ingestion/train.csv.gz\\\\076.part',\n 'D:/DG Internship stuff/Week 6 Data Ingestion/train.csv.gz\\\\077.part',\n 'D:/DG Internship stuff/Week 6 Data Ingestion/train.csv.gz\\\\078.part',\n 'D:/DG Internship stuff/Week 6 Data Ingestion/train.csv.gz\\\\079.part',\n 'D:/DG Internship stuff/Week 6 Data Ingestion/train.csv.gz\\\\080.part',\n 'D:/DG Internship stuff/Week 6 Data Ingestion/train.csv.gz\\\\081.part',\n 'D:/DG Internship stuff/Week 6 Data Ingestion/train.csv.gz\\\\082.part',\n 'D:/DG Internship stuff/Week 6 Data Ingestion/train.csv.gz\\\\083.part',\n 'D:/DG Internship stuff/Week 6 Data Ingestion/train.csv.gz\\\\084.part',\n 'D:/DG Internship stuff/Week 6 Data Ingestion/train.csv.gz\\\\085.part',\n 'D:/DG Internship stuff/Week 6 Data Ingestion/train.csv.gz\\\\086.part',\n 'D:/DG Internship stuff/Week 6 Data Ingestion/train.csv.gz\\\\087.part',\n 'D:/DG Internship stuff/Week 6 Data Ingestion/train.csv.gz\\\\088.part',\n 'D:/DG Internship stuff/Week 6 Data Ingestion/train.csv.gz\\\\089.part',\n 'D:/DG Internship stuff/Week 6 Data Ingestion/train.csv.gz\\\\090.part',\n 'D:/DG Internship stuff/Week 6 Data Ingestion/train.csv.gz\\\\091.part',\n 'D:/DG Internship stuff/Week 6 Data Ingestion/train.csv.gz\\\\092.part',\n 'D:/DG Internship stuff/Week 6 Data Ingestion/train.csv.gz\\\\093.part',\n 'D:/DG Internship stuff/Week 6 Data Ingestion/train.csv.gz\\\\094.part',\n 'D:/DG Internship stuff/Week 6 Data Ingestion/train.csv.gz\\\\095.part',\n 'D:/DG Internship stuff/Week 6 Data Ingestion/train.csv.gz\\\\096.part',\n 'D:/DG Internship stuff/Week 6 Data Ingestion/train.csv.gz\\\\097.part',\n 'D:/DG Internship stuff/Week 6 Data Ingestion/train.csv.gz\\\\098.part',\n 'D:/DG Internship stuff/Week 6 Data Ingestion/train.csv.gz\\\\099.part',\n 'D:/DG Internship stuff/Week 6 Data Ingestion/train.csv.gz\\\\100.part',\n 'D:/DG Internship stuff/Week 6 Data Ingestion/train.csv.gz\\\\101.part',\n 'D:/DG Internship stuff/Week 6 Data Ingestion/train.csv.gz\\\\102.part',\n 'D:/DG Internship stuff/Week 6 Data Ingestion/train.csv.gz\\\\103.part',\n 'D:/DG Internship stuff/Week 6 Data Ingestion/train.csv.gz\\\\104.part',\n 'D:/DG Internship stuff/Week 6 Data Ingestion/train.csv.gz\\\\105.part',\n 'D:/DG Internship stuff/Week 6 Data Ingestion/train.csv.gz\\\\106.part',\n 'D:/DG Internship stuff/Week 6 Data Ingestion/train.csv.gz\\\\107.part',\n 'D:/DG Internship stuff/Week 6 Data Ingestion/train.csv.gz\\\\108.part',\n 'D:/DG Internship stuff/Week 6 Data Ingestion/train.csv.gz\\\\109.part',\n 'D:/DG Internship stuff/Week 6 Data Ingestion/train.csv.gz\\\\110.part',\n 'D:/DG Internship stuff/Week 6 Data Ingestion/train.csv.gz\\\\111.part',\n 'D:/DG Internship stuff/Week 6 Data Ingestion/train.csv.gz\\\\112.part',\n 'D:/DG Internship stuff/Week 6 Data Ingestion/train.csv.gz\\\\113.part',\n 'D:/DG Internship stuff/Week 6 Data Ingestion/train.csv.gz\\\\114.part',\n 'D:/DG Internship stuff/Week 6 Data Ingestion/train.csv.gz\\\\115.part',\n 'D:/DG Internship stuff/Week 6 Data Ingestion/train.csv.gz\\\\116.part',\n 'D:/DG Internship stuff/Week 6 Data Ingestion/train.csv.gz\\\\117.part',\n 'D:/DG Internship stuff/Week 6 Data Ingestion/train.csv.gz\\\\118.part',\n 'D:/DG Internship stuff/Week 6 Data Ingestion/train.csv.gz\\\\119.part',\n 'D:/DG Internship stuff/Week 6 Data Ingestion/train.csv.gz\\\\120.part',\n 'D:/DG Internship stuff/Week 6 Data Ingestion/train.csv.gz\\\\121.part',\n 'D:/DG Internship stuff/Week 6 Data Ingestion/train.csv.gz\\\\122.part',\n 'D:/DG Internship stuff/Week 6 Data Ingestion/train.csv.gz\\\\123.part',\n 'D:/DG Internship stuff/Week 6 Data Ingestion/train.csv.gz\\\\124.part',\n 'D:/DG Internship stuff/Week 6 Data Ingestion/train.csv.gz\\\\125.part',\n 'D:/DG Internship stuff/Week 6 Data Ingestion/train.csv.gz\\\\126.part',\n 'D:/DG Internship stuff/Week 6 Data Ingestion/train.csv.gz\\\\127.part',\n 'D:/DG Internship stuff/Week 6 Data Ingestion/train.csv.gz\\\\128.part',\n 'D:/DG Internship stuff/Week 6 Data Ingestion/train.csv.gz\\\\129.part',\n 'D:/DG Internship stuff/Week 6 Data Ingestion/train.csv.gz\\\\130.part',\n 'D:/DG Internship stuff/Week 6 Data Ingestion/train.csv.gz\\\\131.part',\n 'D:/DG Internship stuff/Week 6 Data Ingestion/train.csv.gz\\\\132.part',\n 'D:/DG Internship stuff/Week 6 Data Ingestion/train.csv.gz\\\\133.part',\n 'D:/DG Internship stuff/Week 6 Data Ingestion/train.csv.gz\\\\134.part',\n 'D:/DG Internship stuff/Week 6 Data Ingestion/train.csv.gz\\\\135.part',\n 'D:/DG Internship stuff/Week 6 Data Ingestion/train.csv.gz\\\\136.part',\n 'D:/DG Internship stuff/Week 6 Data Ingestion/train.csv.gz\\\\137.part',\n 'D:/DG Internship stuff/Week 6 Data Ingestion/train.csv.gz\\\\138.part',\n 'D:/DG Internship stuff/Week 6 Data Ingestion/train.csv.gz\\\\139.part',\n 'D:/DG Internship stuff/Week 6 Data Ingestion/train.csv.gz\\\\140.part',\n 'D:/DG Internship stuff/Week 6 Data Ingestion/train.csv.gz\\\\141.part',\n 'D:/DG Internship stuff/Week 6 Data Ingestion/train.csv.gz\\\\142.part',\n 'D:/DG Internship stuff/Week 6 Data Ingestion/train.csv.gz\\\\143.part',\n 'D:/DG Internship stuff/Week 6 Data Ingestion/train.csv.gz\\\\144.part',\n 'D:/DG Internship stuff/Week 6 Data Ingestion/train.csv.gz\\\\145.part',\n 'D:/DG Internship stuff/Week 6 Data Ingestion/train.csv.gz\\\\146.part',\n 'D:/DG Internship stuff/Week 6 Data Ingestion/train.csv.gz\\\\147.part',\n 'D:/DG Internship stuff/Week 6 Data Ingestion/train.csv.gz\\\\148.part',\n 'D:/DG Internship stuff/Week 6 Data Ingestion/train.csv.gz\\\\149.part',\n 'D:/DG Internship stuff/Week 6 Data Ingestion/train.csv.gz\\\\150.part',\n 'D:/DG Internship stuff/Week 6 Data Ingestion/train.csv.gz\\\\151.part',\n 'D:/DG Internship stuff/Week 6 Data Ingestion/train.csv.gz\\\\152.part',\n 'D:/DG Internship stuff/Week 6 Data Ingestion/train.csv.gz\\\\153.part',\n 'D:/DG Internship stuff/Week 6 Data Ingestion/train.csv.gz\\\\154.part',\n 'D:/DG Internship stuff/Week 6 Data Ingestion/train.csv.gz\\\\155.part',\n 'D:/DG Internship stuff/Week 6 Data Ingestion/train.csv.gz\\\\156.part',\n 'D:/DG Internship stuff/Week 6 Data Ingestion/train.csv.gz\\\\157.part',\n 'D:/DG Internship stuff/Week 6 Data Ingestion/train.csv.gz\\\\158.part',\n 'D:/DG Internship stuff/Week 6 Data Ingestion/train.csv.gz\\\\159.part',\n 'D:/DG Internship stuff/Week 6 Data Ingestion/train.csv.gz\\\\160.part',\n 'D:/DG Internship stuff/Week 6 Data Ingestion/train.csv.gz\\\\161.part']"
     },
     "execution_count": 22,
     "metadata": {},
     "output_type": "execute_result"
    }
   ],
   "source": [
    "import csv\n",
    "\n",
    "df = dd.read_csv('archive/train.csv',delimiter=',')\n",
    "\n",
    "# write csv in gz format in pipe separated text file (|)\n",
    "df.to_csv('train.csv.gz',\n",
    "          sep='|',\n",
    "          header=True,\n",
    "          index=False,\n",
    "          quoting=csv.QUOTE_ALL,\n",
    "          compression='gzip',\n",
    "          quotechar='\"',\n",
    "          doublequote=True,\n",
    "          line_terminator='\\n')"
   ]
  },
  {
   "cell_type": "code",
   "execution_count": 23,
   "metadata": {},
   "outputs": [
    {
     "name": "stdout",
     "output_type": "stream",
     "text": [
      "000.part\n",
      "001.part\n",
      "002.part\n",
      "003.part\n",
      "004.part\n",
      "005.part\n",
      "006.part\n",
      "007.part\n",
      "008.part\n",
      "009.part\n",
      "010.part\n",
      "011.part\n",
      "012.part\n",
      "013.part\n",
      "014.part\n",
      "015.part\n",
      "016.part\n",
      "017.part\n",
      "018.part\n",
      "019.part\n",
      "020.part\n",
      "021.part\n",
      "022.part\n",
      "023.part\n",
      "024.part\n",
      "025.part\n",
      "026.part\n",
      "027.part\n",
      "028.part\n",
      "029.part\n",
      "030.part\n",
      "031.part\n",
      "032.part\n",
      "033.part\n",
      "034.part\n",
      "035.part\n",
      "036.part\n",
      "037.part\n",
      "038.part\n",
      "039.part\n",
      "040.part\n",
      "041.part\n",
      "042.part\n",
      "043.part\n",
      "044.part\n",
      "045.part\n",
      "046.part\n",
      "047.part\n",
      "048.part\n",
      "049.part\n",
      "050.part\n",
      "051.part\n",
      "052.part\n",
      "053.part\n",
      "054.part\n",
      "055.part\n",
      "056.part\n",
      "057.part\n",
      "058.part\n",
      "059.part\n",
      "060.part\n",
      "061.part\n",
      "062.part\n",
      "063.part\n",
      "064.part\n",
      "065.part\n",
      "066.part\n",
      "067.part\n",
      "068.part\n",
      "069.part\n",
      "070.part\n",
      "071.part\n",
      "072.part\n",
      "073.part\n",
      "074.part\n",
      "075.part\n",
      "076.part\n",
      "077.part\n",
      "078.part\n",
      "079.part\n",
      "080.part\n",
      "081.part\n",
      "082.part\n",
      "083.part\n",
      "084.part\n",
      "085.part\n",
      "086.part\n",
      "087.part\n",
      "088.part\n",
      "089.part\n",
      "090.part\n",
      "091.part\n",
      "092.part\n",
      "093.part\n",
      "094.part\n",
      "095.part\n",
      "096.part\n",
      "097.part\n",
      "098.part\n",
      "099.part\n",
      "100.part\n",
      "101.part\n",
      "102.part\n",
      "103.part\n",
      "104.part\n",
      "105.part\n",
      "106.part\n",
      "107.part\n",
      "108.part\n",
      "109.part\n",
      "110.part\n",
      "111.part\n",
      "112.part\n",
      "113.part\n",
      "114.part\n",
      "115.part\n",
      "116.part\n",
      "117.part\n",
      "118.part\n",
      "119.part\n",
      "120.part\n",
      "121.part\n",
      "122.part\n",
      "123.part\n",
      "124.part\n",
      "125.part\n",
      "126.part\n",
      "127.part\n",
      "128.part\n",
      "129.part\n",
      "130.part\n",
      "131.part\n",
      "132.part\n",
      "133.part\n",
      "134.part\n",
      "135.part\n",
      "136.part\n",
      "137.part\n",
      "138.part\n",
      "139.part\n",
      "140.part\n",
      "141.part\n",
      "142.part\n",
      "143.part\n",
      "144.part\n",
      "145.part\n",
      "146.part\n",
      "147.part\n",
      "148.part\n",
      "149.part\n",
      "150.part\n",
      "151.part\n",
      "152.part\n",
      "153.part\n",
      "154.part\n",
      "155.part\n",
      "156.part\n",
      "157.part\n",
      "158.part\n",
      "159.part\n",
      "160.part\n",
      "161.part\n"
     ]
    }
   ],
   "source": [
    "# number of files in gz format folder\n",
    "entries = os.listdir('train.csv.gz')\n",
    "for entry in entries:\n",
    "    print(entry)"
   ]
  },
  {
   "cell_type": "code",
   "execution_count": 24,
   "metadata": {
    "pycharm": {
     "name": "#%%\n"
    }
   },
   "outputs": [
    {
     "data": {
      "text/plain": "81920"
     },
     "execution_count": 24,
     "metadata": {},
     "output_type": "execute_result"
    }
   ],
   "source": [
    "# size of the gz format folder\n",
    "os.path.getsize('train.csv.gz')"
   ]
  }
 ],
 "metadata": {
  "kernelspec": {
   "display_name": "Python 3",
   "language": "python",
   "name": "python3"
  },
  "language_info": {
   "codemirror_mode": {
    "name": "ipython",
    "version": 3
   },
   "file_extension": ".py",
   "mimetype": "text/x-python",
   "name": "python",
   "nbconvert_exporter": "python",
   "pygments_lexer": "ipython3",
   "version": "3.8.5"
  }
 },
 "nbformat": 4,
 "nbformat_minor": 4
}